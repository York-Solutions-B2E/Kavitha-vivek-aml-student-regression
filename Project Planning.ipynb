{
 "cells": [
  {
   "cell_type": "markdown",
   "metadata": {},
   "source": [
    "AML MIDTERM ASSSESSMENT "
   ]
  },
  {
   "cell_type": "code",
   "execution_count": null,
   "metadata": {
    "vscode": {
     "languageId": "plaintext"
    }
   },
   "outputs": [],
   "source": [
    "GOAL :\n",
    "\n",
    "In this project, we will create a machine learning model to predict final grades of students based on vast array of personal and socio-economic factors."
   ]
  },
  {
   "cell_type": "markdown",
   "metadata": {},
   "source": [
    "GIVEN :\n",
    "\n",
    "Student's data in a csv file"
   ]
  },
  {
   "cell_type": "markdown",
   "metadata": {},
   "source": [
    "REQUIREMENTS :\n",
    "\n",
    "1. All code written in python or sql\n",
    "2. All code managed via git\n",
    "3. Follow the naming convention\n",
    "    <FN>-<LN>-aml-student-regression(all lower case)\n",
    "4. Only libraries inherent to python or listed below can be used\n",
    "5. Postgres database should be managed via docker\n",
    "6. Only data from the given dataset will be used  "
   ]
  },
  {
   "cell_type": "markdown",
   "metadata": {},
   "source": [
    "ALLOWED DEPENDENCIES :\n",
    "\n",
    "scikit-learn, numpy, scipy, pandas, matplotlib, seaborn, psycopg2, sqlalchemy"
   ]
  },
  {
   "cell_type": "markdown",
   "metadata": {},
   "source": [
    "PLANNING :\n",
    "\n",
    "1. Import required libraries \n",
    "2. Load the CSV File\n",
    "3. Analyse the data :\n",
    "    -look for null values\n",
    "    -see if data is duplicated\n",
    "    -check for outliers\n",
    "    -generate some statistics for the dataset\n",
    "     -find the cardinality of each column\n",
    "    -split/find categorical and numerical data\n",
    "    -if numeric, check if it is discrete or continous\n",
    "4. Perform EDA\n",
    "    -create some visualizations to see the distribution of data    \n",
    "5. After a thorough analysis of the data, choose ways to prepate the data :\n",
    "        -Preprocessing\n",
    "        -Transformation\n",
    "        -Feature Selection / Engineering\n",
    "    Above steps can be achieved by \n",
    "        -scale / normalize\n",
    "        -encode / one hot encode\n",
    "        -create new features / remove features\n",
    "        -handling missing values\n",
    "        -remove duplicate entries\n",
    "6. Create a connection to the postgres database and load the dataframe to database\n",
    "7. Also, create a function to add new students to the database\n",
    "8. Split the data to train and test\n",
    "9. Choose a regression model and fit the training data to the model selected\n",
    "10. Make some predictions on the test data\n",
    "11. Evaluate the model\n",
    "12. How to improve?\n",
    "    -choose different models\n",
    "    -split the data differently\n",
    "    -apply different transformations \n",
    "    -select different features\n",
    "    -hyperparameter tuning\n",
    "13. Compare different test results\n",
    "14. Choose the model with best results\n",
    "15. For the bonus part : try to run the model without grades and find which socio-economic factors influence the student grades \n",
    "15. Write a project summary\n",
    "16. Push final code to git    "
   ]
  }
 ],
 "metadata": {
  "language_info": {
   "name": "python"
  }
 },
 "nbformat": 4,
 "nbformat_minor": 2
}
